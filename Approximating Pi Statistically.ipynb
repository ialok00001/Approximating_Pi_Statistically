{
 "cells": [
  {
   "cell_type": "markdown",
   "id": "ef00a8e4",
   "metadata": {},
   "source": [
    "### Generating Pi Statistically"
   ]
  },
  {
   "cell_type": "markdown",
   "id": "3756a791",
   "metadata": {},
   "source": [
    "Consider a circle inscribed in a square. Now if we choose a random point inside the square, what will be the probability that the point choosen is inside the circle ?\n",
    "\n",
    "Clearly, as the point is choosen at random, the required probability would be area of circle divided by area of square\n",
    "$$\\pi r^2 \\times \\frac{1}{(2r)^2}= \\pi r^2 \\times \\frac{1}{4r^2}=\\frac{\\pi}{4}$$\n",
    "\n",
    "If we choose a number of points in the square at random and then count the fraction of them that lies inside the inscribed circle, then this fraction should converge to this probability.\n",
    "\n",
    "We will also be doing the same thing for a sphere inscribed in a cube and a hypersphere inscribed inside a 4D-hypercube (or a teserract).\n",
    "\n",
    "- For a sphere in a cube, the probability would be\n",
    "$$\\frac{4}{3}\\pi r^3\\times \\frac{1}{(2r)^3} = \\frac{4}{3}\\pi r^3\\times \\frac{1}{8r^3}=\\frac{\\pi}{6}$$\n",
    "- And for a hypersphere, the probability would be\n",
    "$$\\frac{1}{2}\\pi^2r^4\\times \\frac{1}{(2r)^4}=\\frac{1}{2}\\pi^2r^4\\times \\frac{1}{16r^4}=\\frac{\\pi^2}{32}$$"
   ]
  },
  {
   "cell_type": "code",
   "execution_count": 1,
   "id": "c7bfa0b2",
   "metadata": {},
   "outputs": [],
   "source": [
    "import random"
   ]
  },
  {
   "cell_type": "code",
   "execution_count": 2,
   "id": "b405d7e1",
   "metadata": {},
   "outputs": [],
   "source": [
    "random.seed(42)"
   ]
  },
  {
   "cell_type": "markdown",
   "id": "f2f22190",
   "metadata": {},
   "source": [
    "### Generating Pi from a 2D circle"
   ]
  },
  {
   "cell_type": "markdown",
   "id": "58bccf32",
   "metadata": {},
   "source": [
    "Since the required probability is $\\pi/4$, we will make the function return 4c, where c is the fraction computed."
   ]
  },
  {
   "cell_type": "code",
   "execution_count": 3,
   "id": "8a6c9834",
   "metadata": {},
   "outputs": [],
   "source": [
    "def f_2D(n):\n",
    "    c = 0\n",
    "    for i in range(n):\n",
    "        x, y = random.uniform(-1,1), random.uniform(-1,1)\n",
    "        if x**2 + y**2 <= 1:\n",
    "            c += 1\n",
    "    return c/n * 4"
   ]
  },
  {
   "cell_type": "code",
   "execution_count": 4,
   "id": "92baabb7",
   "metadata": {},
   "outputs": [
    {
     "data": {
      "text/plain": [
       "3.14028"
      ]
     },
     "execution_count": 4,
     "metadata": {},
     "output_type": "execute_result"
    }
   ],
   "source": [
    "f_2D(10**5)"
   ]
  },
  {
   "cell_type": "markdown",
   "id": "a843139d",
   "metadata": {},
   "source": [
    "This indeed approximate pi."
   ]
  },
  {
   "cell_type": "markdown",
   "id": "7e527143",
   "metadata": {},
   "source": [
    "### Generating Pi from a 3D sphere"
   ]
  },
  {
   "cell_type": "markdown",
   "id": "e4531aca",
   "metadata": {},
   "source": [
    "Since the required probability is $\\pi/6$, we will make the function return 6c, where c is the fraction computed."
   ]
  },
  {
   "cell_type": "code",
   "execution_count": 5,
   "id": "c96cbbc9",
   "metadata": {},
   "outputs": [],
   "source": [
    "def f_3D(n):\n",
    "    c = 0\n",
    "    for i in range(n):\n",
    "        x, y, z = random.uniform(-1,1), random.uniform(-1,1), random.uniform(-1,1)\n",
    "        if x**2 + y**2 + z**2 <= 1:\n",
    "            c += 1\n",
    "    return c/n * 6"
   ]
  },
  {
   "cell_type": "code",
   "execution_count": 6,
   "id": "34e9bdf7",
   "metadata": {},
   "outputs": [
    {
     "data": {
      "text/plain": [
       "3.1405260000000004"
      ]
     },
     "execution_count": 6,
     "metadata": {},
     "output_type": "execute_result"
    }
   ],
   "source": [
    "f_3D(10**6)"
   ]
  },
  {
   "cell_type": "markdown",
   "id": "93346c56",
   "metadata": {},
   "source": [
    "This too seems to approximate Pi"
   ]
  },
  {
   "cell_type": "markdown",
   "id": "156ba62a",
   "metadata": {},
   "source": [
    "### Generating Pi from a 4D hyper-sphere"
   ]
  },
  {
   "cell_type": "markdown",
   "id": "57fa23a1",
   "metadata": {},
   "source": [
    "Here the probability is $\\pi^2/32$, so we will make the function return $\\sqrt{c\\times 32}$, where c is again the fraction computed."
   ]
  },
  {
   "cell_type": "code",
   "execution_count": 7,
   "id": "19177d35",
   "metadata": {},
   "outputs": [],
   "source": [
    "from numpy import sqrt, pi"
   ]
  },
  {
   "cell_type": "code",
   "execution_count": 8,
   "id": "250f0bc5",
   "metadata": {},
   "outputs": [],
   "source": [
    "def f_4D(n):\n",
    "    c = 0\n",
    "    for i in range(n):\n",
    "        x, y, z, w = random.uniform(-1,1), random.uniform(-1,1), random.uniform(-1,1), random.uniform(-1, 1)\n",
    "        if x**2 + y**2 + z**2 + w**2<= 1:\n",
    "            c += 1\n",
    "    return sqrt(c/n * 32)"
   ]
  },
  {
   "cell_type": "code",
   "execution_count": 9,
   "id": "cfe8d958",
   "metadata": {},
   "outputs": [
    {
     "data": {
      "text/plain": [
       "3.141510464728711"
      ]
     },
     "execution_count": 9,
     "metadata": {},
     "output_type": "execute_result"
    }
   ],
   "source": [
    "f_4D(10**6)"
   ]
  },
  {
   "cell_type": "markdown",
   "id": "c7dbdde4",
   "metadata": {},
   "source": [
    "This also gives an approximate of Pi."
   ]
  },
  {
   "cell_type": "markdown",
   "id": "14b65973",
   "metadata": {},
   "source": [
    "### Plotting these three functions together"
   ]
  },
  {
   "cell_type": "markdown",
   "id": "da3e7903",
   "metadata": {},
   "source": [
    "Now we will plot these three functions to check for their convergence."
   ]
  },
  {
   "cell_type": "code",
   "execution_count": 10,
   "id": "3059dddc",
   "metadata": {},
   "outputs": [
    {
     "name": "stdout",
     "output_type": "stream",
     "text": [
      "1.0% -> 3.1332\n",
      "2.0% -> 3.1428\n",
      "3.0% -> 3.150533333333333\n",
      "4.0% -> 3.1575\n",
      "5.0% -> 3.14672\n",
      "6.0% -> 3.1426\n",
      "7.0% -> 3.147885714285714\n",
      "8.0% -> 3.14345\n",
      "9.0% -> 3.148222222222222\n",
      "10.0% -> 3.141\n",
      "11.0% -> 3.143490909090909\n",
      "12.0% -> 3.146\n",
      "13.0% -> 3.142369230769231\n",
      "14.0% -> 3.1378285714285714\n",
      "15.0% -> 3.141653333333333\n",
      "16.0% -> 3.1412\n",
      "17.0% -> 3.137764705882353\n",
      "18.0% -> 3.147022222222222\n",
      "19.0% -> 3.1439578947368423\n",
      "20.0% -> 3.13982\n",
      "21.0% -> 3.1377714285714284\n",
      "22.0% -> 3.1375818181818182\n",
      "23.0% -> 3.144886956521739\n",
      "24.0% -> 3.1420666666666666\n",
      "25.0% -> 3.144304\n",
      "26.0% -> 3.145553846153846\n",
      "27.0% -> 3.137985185185185\n",
      "28.0% -> 3.142057142857143\n",
      "29.0% -> 3.138013793103448\n",
      "30.0% -> 3.145906666666667\n",
      "31.0% -> 3.1395612903225807\n",
      "32.0% -> 3.145575\n",
      "33.0% -> 3.1412\n",
      "34.0% -> 3.150058823529412\n",
      "35.0% -> 3.1374514285714286\n",
      "36.0% -> 3.140311111111111\n",
      "37.0% -> 3.1417513513513513\n",
      "38.0% -> 3.1430315789473684\n",
      "39.0% -> 3.139046153846154\n",
      "40.0% -> 3.14283\n",
      "41.0% -> 3.1438439024390243\n",
      "42.0% -> 3.1414095238095237\n",
      "43.0% -> 3.1427906976744184\n",
      "44.0% -> 3.1424363636363637\n",
      "45.0% -> 3.144151111111111\n",
      "46.0% -> 3.1420521739130436\n",
      "47.0% -> 3.141540425531915\n",
      "48.0% -> 3.1360333333333332\n",
      "49.0% -> 3.139542857142857\n",
      "50.0% -> 3.141488\n",
      "51.0% -> 3.140549019607843\n",
      "52.0% -> 3.141123076923077\n",
      "53.0% -> 3.1396\n",
      "54.0% -> 3.143666666666667\n",
      "55.0% -> 3.14024\n",
      "56.0% -> 3.1439142857142857\n",
      "57.0% -> 3.141880701754386\n",
      "58.0% -> 3.1422206896551725\n",
      "59.0% -> 3.141186440677966\n",
      "60.0% -> 3.1407933333333333\n",
      "61.0% -> 3.140406557377049\n",
      "62.0% -> 3.144741935483871\n",
      "63.0% -> 3.1454222222222223\n",
      "64.0% -> 3.143125\n",
      "65.0% -> 3.143323076923077\n",
      "66.0% -> 3.1387757575757576\n",
      "67.0% -> 3.1428955223880597\n",
      "68.0% -> 3.1404941176470587\n",
      "69.0% -> 3.1428347826086958\n",
      "70.0% -> 3.1390457142857144\n",
      "71.0% -> 3.140512676056338\n",
      "72.0% -> 3.1425055555555557\n",
      "73.0% -> 3.138805479452055\n",
      "74.0% -> 3.1417513513513513\n",
      "75.0% -> 3.139616\n",
      "76.0% -> 3.1411263157894735\n",
      "77.0% -> 3.139490909090909\n",
      "78.0% -> 3.1364615384615386\n",
      "79.0% -> 3.1437721518987343\n",
      "80.0% -> 3.142805\n",
      "81.0% -> 3.1426864197530864\n",
      "82.0% -> 3.1428\n",
      "83.0% -> 3.1423277108433734\n",
      "84.0% -> 3.142747619047619\n",
      "85.0% -> 3.1417788235294117\n",
      "86.0% -> 3.143288372093023\n",
      "87.0% -> 3.140326436781609\n",
      "88.0% -> 3.1391181818181817\n",
      "89.0% -> 3.139752808988764\n",
      "90.0% -> 3.141062222222222\n",
      "91.0% -> 3.143059340659341\n",
      "92.0% -> 3.1404260869565217\n",
      "93.0% -> 3.1386924731182795\n",
      "94.0% -> 3.1405446808510638\n",
      "95.0% -> 3.142138947368421\n",
      "96.0% -> 3.1419333333333332\n",
      "97.0% -> 3.1424701030927835\n",
      "98.0% -> 3.1384081632653062\n",
      "99.0% -> 3.141717171717172\n",
      "100.0% -> 3.142504\n"
     ]
    }
   ],
   "source": [
    "y_2D = []\n",
    "for i in range(10**4, 10**6+1, 10**4):\n",
    "    a = f_2D(i)\n",
    "    y_2D.append(a)\n",
    "    print(str(round(i/10**6 * 100, 2)) + '%' + ' -> ' + str(a))"
   ]
  },
  {
   "cell_type": "code",
   "execution_count": 11,
   "id": "04e4097c",
   "metadata": {},
   "outputs": [
    {
     "name": "stdout",
     "output_type": "stream",
     "text": [
      "1.0% -> 3.0942000000000003\n",
      "2.0% -> 3.1494\n",
      "3.0% -> 3.1895999999999995\n",
      "4.0% -> 3.15255\n",
      "5.0% -> 3.1254\n",
      "6.0% -> 3.134\n",
      "7.0% -> 3.1357714285714287\n",
      "8.0% -> 3.14685\n",
      "9.0% -> 3.142933333333333\n",
      "10.0% -> 3.12948\n",
      "11.0% -> 3.1374000000000004\n",
      "12.0% -> 3.1281999999999996\n",
      "13.0% -> 3.135969230769231\n",
      "14.0% -> 3.1452428571428572\n",
      "15.0% -> 3.1446\n",
      "16.0% -> 3.1395\n",
      "17.0% -> 3.1471764705882355\n",
      "18.0% -> 3.1461333333333332\n",
      "19.0% -> 3.136042105263158\n",
      "20.0% -> 3.14256\n",
      "21.0% -> 3.1468857142857143\n",
      "22.0% -> 3.148118181818182\n",
      "23.0% -> 3.137582608695652\n",
      "24.0% -> 3.1393\n",
      "25.0% -> 3.147144\n",
      "26.0% -> 3.1432846153846152\n",
      "27.0% -> 3.1403333333333334\n",
      "28.0% -> 3.1382785714285717\n",
      "29.0% -> 3.142779310344828\n",
      "30.0% -> 3.15026\n",
      "31.0% -> 3.138116129032258\n",
      "32.0% -> 3.13798125\n",
      "33.0% -> 3.1387636363636364\n",
      "34.0% -> 3.140982352941176\n",
      "35.0% -> 3.139148571428571\n",
      "36.0% -> 3.1456\n",
      "37.0% -> 3.1406918918918914\n",
      "38.0% -> 3.137621052631579\n",
      "39.0% -> 3.1323846153846153\n",
      "40.0% -> 3.1436399999999995\n",
      "41.0% -> 3.1405024390243903\n",
      "42.0% -> 3.149685714285714\n",
      "43.0% -> 3.1379441860465116\n",
      "44.0% -> 3.1434\n",
      "45.0% -> 3.1414533333333337\n",
      "46.0% -> 3.1454608695652175\n",
      "47.0% -> 3.141651063829787\n",
      "48.0% -> 3.1416625\n",
      "49.0% -> 3.14550612244898\n",
      "50.0% -> 3.1459799999999998\n",
      "51.0% -> 3.137729411764706\n",
      "52.0% -> 3.1416807692307693\n",
      "53.0% -> 3.139743396226415\n",
      "54.0% -> 3.1395333333333335\n",
      "55.0% -> 3.14616\n",
      "56.0% -> 3.1437749999999998\n",
      "57.0% -> 3.1373263157894735\n",
      "58.0% -> 3.1410827586206898\n",
      "59.0% -> 3.1419254237288134\n",
      "60.0% -> 3.14156\n",
      "61.0% -> 3.136170491803279\n",
      "62.0% -> 3.1471451612903225\n",
      "63.0% -> 3.138228571428571\n",
      "64.0% -> 3.1412062499999998\n",
      "65.0% -> 3.1428000000000003\n",
      "66.0% -> 3.142336363636364\n",
      "67.0% -> 3.1438208955223876\n",
      "68.0% -> 3.1451823529411764\n",
      "69.0% -> 3.1390434782608696\n",
      "70.0% -> 3.1440085714285715\n",
      "71.0% -> 3.1432985915492955\n",
      "72.0% -> 3.146525\n",
      "73.0% -> 3.1403013698630136\n",
      "74.0% -> 3.1406513513513517\n",
      "75.0% -> 3.14532\n",
      "76.0% -> 3.1353947368421053\n",
      "77.0% -> 3.146407792207792\n",
      "78.0% -> 3.1401\n",
      "79.0% -> 3.1442962025316454\n",
      "80.0% -> 3.1359975\n",
      "81.0% -> 3.138288888888889\n",
      "82.0% -> 3.139617073170732\n",
      "83.0% -> 3.1419759036144583\n",
      "84.0% -> 3.1388857142857143\n",
      "85.0% -> 3.1378870588235297\n",
      "86.0% -> 3.145946511627907\n",
      "87.0% -> 3.1442\n",
      "88.0% -> 3.145343181818182\n",
      "89.0% -> 3.1424224719101126\n",
      "90.0% -> 3.1497\n",
      "91.0% -> 3.1406769230769234\n",
      "92.0% -> 3.1385608695652176\n",
      "93.0% -> 3.145677419354839\n",
      "94.0% -> 3.1440765957446812\n",
      "95.0% -> 3.1425915789473686\n",
      "96.0% -> 3.1443125\n",
      "97.0% -> 3.140424742268041\n",
      "98.0% -> 3.1432040816326525\n",
      "99.0% -> 3.135642424242424\n",
      "100.0% -> 3.140424\n"
     ]
    }
   ],
   "source": [
    "y_3D = []\n",
    "for i in range(10**4, 10**6+1, 10**4):\n",
    "    a = f_3D(i)\n",
    "    y_3D.append(a)\n",
    "    print(str(round(i/10**6 * 100, 2)) + '%' + ' -> ' + str(a))"
   ]
  },
  {
   "cell_type": "code",
   "execution_count": 12,
   "id": "e05e3b68",
   "metadata": {},
   "outputs": [
    {
     "name": "stdout",
     "output_type": "stream",
     "text": [
      "1.0% -> 3.1440101781005736\n",
      "2.0% -> 3.162783584123327\n",
      "3.0% -> 3.147231587707944\n",
      "4.0% -> 3.134453700407776\n",
      "5.0% -> 3.1368774282716245\n",
      "6.0% -> 3.129387586520191\n",
      "7.0% -> 3.1392082714322367\n",
      "8.0% -> 3.137961121492744\n",
      "9.0% -> 3.150393273510115\n",
      "10.0% -> 3.1347854791037935\n",
      "11.0% -> 3.145952666811467\n",
      "12.0% -> 3.1413372948475304\n",
      "13.0% -> 3.1467492383777214\n",
      "14.0% -> 3.1482965915827292\n",
      "15.0% -> 3.139052935732899\n",
      "16.0% -> 3.138821434870101\n",
      "17.0% -> 3.1440101781005736\n",
      "18.0% -> 3.1434164004577356\n",
      "19.0% -> 3.138326741568205\n",
      "20.0% -> 3.1471129627008945\n",
      "21.0% -> 3.147304213056598\n",
      "22.0% -> 3.151980618306816\n",
      "23.0% -> 3.1457134395043456\n",
      "24.0% -> 3.1373024506200653\n",
      "25.0% -> 3.1445393939335533\n",
      "26.0% -> 3.1403282532979793\n",
      "27.0% -> 3.149433811549837\n",
      "28.0% -> 3.1455546864923973\n",
      "29.0% -> 3.1406742083123844\n",
      "30.0% -> 3.1349726208267485\n",
      "31.0% -> 3.1430578905304634\n",
      "32.0% -> 3.1388851524068224\n",
      "33.0% -> 3.1398282137915143\n",
      "34.0% -> 3.140910321397098\n",
      "35.0% -> 3.135434351318581\n",
      "36.0% -> 3.1358004471656744\n",
      "37.0% -> 3.1429096520710043\n",
      "38.0% -> 3.1335871491076537\n",
      "39.0% -> 3.1453017465615405\n",
      "40.0% -> 3.1489045714343264\n",
      "41.0% -> 3.1399487334637306\n",
      "42.0% -> 3.141185702731951\n",
      "43.0% -> 3.13255672381315\n",
      "44.0% -> 3.1442877499595125\n",
      "45.0% -> 3.140966588665201\n",
      "46.0% -> 3.145271122619258\n",
      "47.0% -> 3.1428947220743098\n",
      "48.0% -> 3.145017223058299\n",
      "49.0% -> 3.1330131548672804\n",
      "50.0% -> 3.1395388196357756\n",
      "51.0% -> 3.139216837515557\n",
      "52.0% -> 3.1485576673479216\n",
      "53.0% -> 3.1431074636896983\n",
      "54.0% -> 3.1348743255570928\n",
      "55.0% -> 3.1386296952071877\n",
      "56.0% -> 3.1416556144810017\n",
      "57.0% -> 3.1391405684951303\n",
      "58.0% -> 3.1466413402448543\n",
      "59.0% -> 3.1381912095658877\n",
      "60.0% -> 3.1415240462764777\n",
      "61.0% -> 3.1445190411253674\n",
      "62.0% -> 3.1384565756784584\n",
      "63.0% -> 3.1396046662466057\n",
      "64.0% -> 3.1408995526759527\n",
      "65.0% -> 3.139512946057324\n",
      "66.0% -> 3.140299155793726\n",
      "67.0% -> 3.1463487485911656\n",
      "68.0% -> 3.1441224343770298\n",
      "69.0% -> 3.137232233507192\n",
      "70.0% -> 3.140409436454334\n",
      "71.0% -> 3.145429055576039\n",
      "72.0% -> 3.1358713125523643\n",
      "73.0% -> 3.1367446697631722\n",
      "74.0% -> 3.1352985977889403\n",
      "75.0% -> 3.1401265367285225\n",
      "76.0% -> 3.139272460132661\n",
      "77.0% -> 3.1400752741411675\n",
      "78.0% -> 3.142789876070019\n",
      "79.0% -> 3.1472230073872822\n",
      "80.0% -> 3.1412799938878417\n",
      "81.0% -> 3.1411187752923047\n",
      "82.0% -> 3.1391967280756674\n",
      "83.0% -> 3.1449297500151125\n",
      "84.0% -> 3.1363976910128084\n",
      "85.0% -> 3.1403798945912484\n",
      "86.0% -> 3.1441758634760104\n",
      "87.0% -> 3.139649295884721\n",
      "88.0% -> 3.1416093154479108\n",
      "89.0% -> 3.1457879811697276\n",
      "90.0% -> 3.1459716746623414\n",
      "91.0% -> 3.1400818915617927\n",
      "92.0% -> 3.1450554705829084\n",
      "93.0% -> 3.1400678028430553\n",
      "94.0% -> 3.138992926998193\n",
      "95.0% -> 3.146039782931785\n",
      "96.0% -> 3.1394479344835986\n",
      "97.0% -> 3.1413858652892634\n",
      "98.0% -> 3.1409188828384966\n",
      "99.0% -> 3.1367795361781257\n",
      "100.0% -> 3.1420248248541895\n"
     ]
    }
   ],
   "source": [
    "y_4D = []\n",
    "for i in range(10**4, 10**6+1, 10**4):\n",
    "    a = f_4D(i)\n",
    "    y_4D.append(a)\n",
    "    print(str(round(i/10**6 * 100, 2))+ '%' + ' -> ' + str(a))"
   ]
  },
  {
   "cell_type": "code",
   "execution_count": 13,
   "id": "bd438c6d",
   "metadata": {},
   "outputs": [
    {
     "data": {
      "image/png": "[encoded data removed]",
      "text/plain": [
       "<Figure size 640x480 with 1 Axes>"
      ]
     },
     "metadata": {},
     "output_type": "display_data"
    }
   ],
   "source": [
    "import matplotlib.pyplot as plt\n",
    "\n",
    "x = list(range(10**4, 10**6+1, 10**4))\n",
    "plt.plot(x, y_2D, label=\"2D\")\n",
    "plt.plot(x, y_3D, label=\"3D\")\n",
    "plt.plot(x, y_4D, label=\"4D\")\n",
    "plt.legend()\n",
    "plt.plot(x, [pi]*len(x))\n",
    "plt.show();"
   ]
  },
  {
   "cell_type": "markdown",
   "id": "127397dc",
   "metadata": {},
   "source": [
    "The graph shows that all three of them seems to well approximate Pi."
   ]
  }
 ],
 "metadata": {
  "kernelspec": {
   "display_name": "Python 3 (ipykernel)",
   "language": "python",
   "name": "python3"
  },
  "language_info": {
   "codemirror_mode": {
    "name": "ipython",
    "version": 3
   },
   "file_extension": ".py",
   "mimetype": "text/x-python",
   "name": "python",
   "nbconvert_exporter": "python",
   "pygments_lexer": "ipython3",
   "version": "3.9.16"
  }
 },
 "nbformat": 4,
 "nbformat_minor": 5
}
